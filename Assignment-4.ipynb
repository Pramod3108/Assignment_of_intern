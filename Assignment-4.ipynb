{
 "cells": [
  {
   "cell_type": "code",
   "execution_count": 23,
   "id": "fb5b51b0",
   "metadata": {},
   "outputs": [
    {
     "name": "stdout",
     "output_type": "stream",
     "text": [
      "Requirement already satisfied: selenium in c:\\users\\milan\\anaconda3\\lib\\site-packages (4.19.0)\n",
      "Requirement already satisfied: urllib3[socks]<3,>=1.26 in c:\\users\\milan\\anaconda3\\lib\\site-packages (from selenium) (1.26.16)\n",
      "Requirement already satisfied: trio~=0.17 in c:\\users\\milan\\anaconda3\\lib\\site-packages (from selenium) (0.25.0)\n",
      "Requirement already satisfied: trio-websocket~=0.9 in c:\\users\\milan\\anaconda3\\lib\\site-packages (from selenium) (0.11.1)\n",
      "Requirement already satisfied: certifi>=2021.10.8 in c:\\users\\milan\\anaconda3\\lib\\site-packages (from selenium) (2023.7.22)\n",
      "Requirement already satisfied: typing_extensions>=4.9.0 in c:\\users\\milan\\anaconda3\\lib\\site-packages (from selenium) (4.10.0)\n",
      "Requirement already satisfied: attrs>=23.2.0 in c:\\users\\milan\\anaconda3\\lib\\site-packages (from trio~=0.17->selenium) (23.2.0)\n",
      "Requirement already satisfied: sortedcontainers in c:\\users\\milan\\anaconda3\\lib\\site-packages (from trio~=0.17->selenium) (2.4.0)\n",
      "Requirement already satisfied: idna in c:\\users\\milan\\anaconda3\\lib\\site-packages (from trio~=0.17->selenium) (3.4)\n",
      "Requirement already satisfied: outcome in c:\\users\\milan\\anaconda3\\lib\\site-packages (from trio~=0.17->selenium) (1.3.0.post0)\n",
      "Requirement already satisfied: sniffio>=1.3.0 in c:\\users\\milan\\anaconda3\\lib\\site-packages (from trio~=0.17->selenium) (1.3.1)\n",
      "Requirement already satisfied: cffi>=1.14 in c:\\users\\milan\\anaconda3\\lib\\site-packages (from trio~=0.17->selenium) (1.15.1)\n",
      "Requirement already satisfied: wsproto>=0.14 in c:\\users\\milan\\anaconda3\\lib\\site-packages (from trio-websocket~=0.9->selenium) (1.2.0)\n",
      "Requirement already satisfied: PySocks!=1.5.7,<2.0,>=1.5.6 in c:\\users\\milan\\anaconda3\\lib\\site-packages (from urllib3[socks]<3,>=1.26->selenium) (1.7.1)\n",
      "Requirement already satisfied: pycparser in c:\\users\\milan\\anaconda3\\lib\\site-packages (from cffi>=1.14->trio~=0.17->selenium) (2.21)\n",
      "Requirement already satisfied: h11<1,>=0.9.0 in c:\\users\\milan\\anaconda3\\lib\\site-packages (from wsproto>=0.14->trio-websocket~=0.9->selenium) (0.14.0)\n"
     ]
    }
   ],
   "source": [
    "!pip install selenium"
   ]
  },
  {
   "cell_type": "code",
   "execution_count": 26,
   "id": "718c0c03",
   "metadata": {},
   "outputs": [],
   "source": [
    "import selenium\n",
    "import pandas as pd\n",
    "from selenium import webdriver\n",
    "import warnings\n",
    "warnings.filterwarnings('ignore')\n",
    "from selenium.webdriver.common.by import By"
   ]
  },
  {
   "cell_type": "code",
   "execution_count": 27,
   "id": "2c6bedcb",
   "metadata": {},
   "outputs": [],
   "source": [
    "driver = webdriver.Chrome()"
   ]
  },
  {
   "cell_type": "code",
   "execution_count": 28,
   "id": "2d437c13",
   "metadata": {},
   "outputs": [],
   "source": [
    "driver.get(\"https://en.wikipedia.org/wiki/List_of_most-viewed_YouTube_videos\")"
   ]
  },
  {
   "cell_type": "code",
   "execution_count": 62,
   "id": "73068025",
   "metadata": {},
   "outputs": [],
   "source": [
    "\n",
    "Name11=[]\n",
    "Artist2=[]\n",
    "Upload_Date1=[]\n",
    "Views1=[]"
   ]
  },
  {
   "cell_type": "code",
   "execution_count": 56,
   "id": "6dfdc36f",
   "metadata": {},
   "outputs": [
    {
     "ename": "AttributeError",
     "evalue": "'str' object has no attribute 'text'",
     "output_type": "error",
     "traceback": [
      "\u001b[1;31m---------------------------------------------------------------------------\u001b[0m",
      "\u001b[1;31mAttributeError\u001b[0m                            Traceback (most recent call last)",
      "Cell \u001b[1;32mIn[56], line 7\u001b[0m\n\u001b[0;32m      5\u001b[0m     Rank\u001b[38;5;241m.\u001b[39mappend(\u001b[38;5;124m'\u001b[39m\u001b[38;5;124m--\u001b[39m\u001b[38;5;124m'\u001b[39m)\n\u001b[0;32m      6\u001b[0m \u001b[38;5;28;01melse\u001b[39;00m :   \n\u001b[1;32m----> 7\u001b[0m     Rank\u001b[38;5;241m.\u001b[39mappend(i\u001b[38;5;241m.\u001b[39mtext)\n",
      "\u001b[1;31mAttributeError\u001b[0m: 'str' object has no attribute 'text'"
     ]
    }
   ],
   "source": [
    "Rank = driver.find_elements(By.XPATH,'//*[@class=\"sortable wikitable sticky-header static-row-numbers sort-under col3center col4right jquery-tablesorter\"]/tbody/tr/td[1]')\n",
    "for i in Rank:\n",
    "    #Rk =  int(i.text)\n",
    "    if i is None:\n",
    "        Rank.append('--')\n",
    "    else :   \n",
    "        Rank.append(i.text)\n",
    "#print(len(Rank),Rank)"
   ]
  },
  {
   "cell_type": "code",
   "execution_count": 31,
   "id": "122eb16c",
   "metadata": {},
   "outputs": [
    {
     "name": "stdout",
     "output_type": "stream",
     "text": [
      "60 [<selenium.webdriver.remote.webelement.WebElement (session=\"c545fe664c0232b050f46819ab8be117\", element=\"f.79B435A3B522787722BB134856E7ED4C.d.F7CE18F073B8F2D892C55D222CBCE2DC.e.49\")>, <selenium.webdriver.remote.webelement.WebElement (session=\"c545fe664c0232b050f46819ab8be117\", element=\"f.79B435A3B522787722BB134856E7ED4C.d.F7CE18F073B8F2D892C55D222CBCE2DC.e.50\")>, <selenium.webdriver.remote.webelement.WebElement (session=\"c545fe664c0232b050f46819ab8be117\", element=\"f.79B435A3B522787722BB134856E7ED4C.d.F7CE18F073B8F2D892C55D222CBCE2DC.e.51\")>, <selenium.webdriver.remote.webelement.WebElement (session=\"c545fe664c0232b050f46819ab8be117\", element=\"f.79B435A3B522787722BB134856E7ED4C.d.F7CE18F073B8F2D892C55D222CBCE2DC.e.52\")>, <selenium.webdriver.remote.webelement.WebElement (session=\"c545fe664c0232b050f46819ab8be117\", element=\"f.79B435A3B522787722BB134856E7ED4C.d.F7CE18F073B8F2D892C55D222CBCE2DC.e.53\")>, <selenium.webdriver.remote.webelement.WebElement (session=\"c545fe664c0232b050f46819ab8be117\", element=\"f.79B435A3B522787722BB134856E7ED4C.d.F7CE18F073B8F2D892C55D222CBCE2DC.e.54\")>, <selenium.webdriver.remote.webelement.WebElement (session=\"c545fe664c0232b050f46819ab8be117\", element=\"f.79B435A3B522787722BB134856E7ED4C.d.F7CE18F073B8F2D892C55D222CBCE2DC.e.55\")>, <selenium.webdriver.remote.webelement.WebElement (session=\"c545fe664c0232b050f46819ab8be117\", element=\"f.79B435A3B522787722BB134856E7ED4C.d.F7CE18F073B8F2D892C55D222CBCE2DC.e.56\")>, <selenium.webdriver.remote.webelement.WebElement (session=\"c545fe664c0232b050f46819ab8be117\", element=\"f.79B435A3B522787722BB134856E7ED4C.d.F7CE18F073B8F2D892C55D222CBCE2DC.e.57\")>, <selenium.webdriver.remote.webelement.WebElement (session=\"c545fe664c0232b050f46819ab8be117\", element=\"f.79B435A3B522787722BB134856E7ED4C.d.F7CE18F073B8F2D892C55D222CBCE2DC.e.58\")>, <selenium.webdriver.remote.webelement.WebElement (session=\"c545fe664c0232b050f46819ab8be117\", element=\"f.79B435A3B522787722BB134856E7ED4C.d.F7CE18F073B8F2D892C55D222CBCE2DC.e.59\")>, <selenium.webdriver.remote.webelement.WebElement (session=\"c545fe664c0232b050f46819ab8be117\", element=\"f.79B435A3B522787722BB134856E7ED4C.d.F7CE18F073B8F2D892C55D222CBCE2DC.e.60\")>, <selenium.webdriver.remote.webelement.WebElement (session=\"c545fe664c0232b050f46819ab8be117\", element=\"f.79B435A3B522787722BB134856E7ED4C.d.F7CE18F073B8F2D892C55D222CBCE2DC.e.61\")>, <selenium.webdriver.remote.webelement.WebElement (session=\"c545fe664c0232b050f46819ab8be117\", element=\"f.79B435A3B522787722BB134856E7ED4C.d.F7CE18F073B8F2D892C55D222CBCE2DC.e.62\")>, <selenium.webdriver.remote.webelement.WebElement (session=\"c545fe664c0232b050f46819ab8be117\", element=\"f.79B435A3B522787722BB134856E7ED4C.d.F7CE18F073B8F2D892C55D222CBCE2DC.e.63\")>, <selenium.webdriver.remote.webelement.WebElement (session=\"c545fe664c0232b050f46819ab8be117\", element=\"f.79B435A3B522787722BB134856E7ED4C.d.F7CE18F073B8F2D892C55D222CBCE2DC.e.64\")>, <selenium.webdriver.remote.webelement.WebElement (session=\"c545fe664c0232b050f46819ab8be117\", element=\"f.79B435A3B522787722BB134856E7ED4C.d.F7CE18F073B8F2D892C55D222CBCE2DC.e.65\")>, <selenium.webdriver.remote.webelement.WebElement (session=\"c545fe664c0232b050f46819ab8be117\", element=\"f.79B435A3B522787722BB134856E7ED4C.d.F7CE18F073B8F2D892C55D222CBCE2DC.e.66\")>, <selenium.webdriver.remote.webelement.WebElement (session=\"c545fe664c0232b050f46819ab8be117\", element=\"f.79B435A3B522787722BB134856E7ED4C.d.F7CE18F073B8F2D892C55D222CBCE2DC.e.67\")>, <selenium.webdriver.remote.webelement.WebElement (session=\"c545fe664c0232b050f46819ab8be117\", element=\"f.79B435A3B522787722BB134856E7ED4C.d.F7CE18F073B8F2D892C55D222CBCE2DC.e.68\")>, <selenium.webdriver.remote.webelement.WebElement (session=\"c545fe664c0232b050f46819ab8be117\", element=\"f.79B435A3B522787722BB134856E7ED4C.d.F7CE18F073B8F2D892C55D222CBCE2DC.e.69\")>, <selenium.webdriver.remote.webelement.WebElement (session=\"c545fe664c0232b050f46819ab8be117\", element=\"f.79B435A3B522787722BB134856E7ED4C.d.F7CE18F073B8F2D892C55D222CBCE2DC.e.70\")>, <selenium.webdriver.remote.webelement.WebElement (session=\"c545fe664c0232b050f46819ab8be117\", element=\"f.79B435A3B522787722BB134856E7ED4C.d.F7CE18F073B8F2D892C55D222CBCE2DC.e.71\")>, <selenium.webdriver.remote.webelement.WebElement (session=\"c545fe664c0232b050f46819ab8be117\", element=\"f.79B435A3B522787722BB134856E7ED4C.d.F7CE18F073B8F2D892C55D222CBCE2DC.e.72\")>, <selenium.webdriver.remote.webelement.WebElement (session=\"c545fe664c0232b050f46819ab8be117\", element=\"f.79B435A3B522787722BB134856E7ED4C.d.F7CE18F073B8F2D892C55D222CBCE2DC.e.73\")>, <selenium.webdriver.remote.webelement.WebElement (session=\"c545fe664c0232b050f46819ab8be117\", element=\"f.79B435A3B522787722BB134856E7ED4C.d.F7CE18F073B8F2D892C55D222CBCE2DC.e.74\")>, <selenium.webdriver.remote.webelement.WebElement (session=\"c545fe664c0232b050f46819ab8be117\", element=\"f.79B435A3B522787722BB134856E7ED4C.d.F7CE18F073B8F2D892C55D222CBCE2DC.e.75\")>, <selenium.webdriver.remote.webelement.WebElement (session=\"c545fe664c0232b050f46819ab8be117\", element=\"f.79B435A3B522787722BB134856E7ED4C.d.F7CE18F073B8F2D892C55D222CBCE2DC.e.76\")>, <selenium.webdriver.remote.webelement.WebElement (session=\"c545fe664c0232b050f46819ab8be117\", element=\"f.79B435A3B522787722BB134856E7ED4C.d.F7CE18F073B8F2D892C55D222CBCE2DC.e.77\")>, <selenium.webdriver.remote.webelement.WebElement (session=\"c545fe664c0232b050f46819ab8be117\", element=\"f.79B435A3B522787722BB134856E7ED4C.d.F7CE18F073B8F2D892C55D222CBCE2DC.e.78\")>, '\"Baby Shark Dance\"[7]', '\"Despacito\"[10]', '\"Johny Johny Yes Papa\"[18]', '\"Bath Song\"[19]', '\"Shape of You\"[20]', '\"See You Again\"[23]', '\"Wheels on the Bus\"[28]', '\"Phonics Song with Two Words\"[29]', '\"Uptown Funk\"[30]', '\"Gangnam Style\"[31]', '\"Learning Colors – Colorful Eggs on a Farm\"[36]', '\"Dame Tu Cosita\"[37]', '\"Masha and the Bear – Recipe for Disaster\"[38]', '\"Axel F\"[39]', '\"Sugar\"[40]', '\"Baa Baa Black Sheep\"[41]', '\"Counting Stars\"[42]', '\"Lakdi Ki Kathi\"[43]', '\"Roar\"[44]', '\"Waka Waka (This Time for Africa)\"[45]', '\"Sorry\"[46]', '\"Shree Hanuman Chalisa\"[47]', '\"Humpty the train on a fruits ride\"[48]', '\"Thinking Out Loud\"[49]', '\"Perfect\"[50]', '\"Dark Horse\"[51]', '\"Let Her Go\"[52]', '\"Faded\"[53]', '\"Girls Like You\"[54]', '\"Lean On\"[55]']\n"
     ]
    }
   ],
   "source": [
    "print(len(Rank),Rank)"
   ]
  },
  {
   "cell_type": "code",
   "execution_count": 84,
   "id": "20bd1363",
   "metadata": {},
   "outputs": [],
   "source": [
    "Nm1 = driver.find_elements(By.XPATH,'//table[@class=\"sortable wikitable sticky-header static-row-numbers sort-under col3center col4right jquery-tablesorter\"]/tbody/tr/td[1]/a')\n",
    "for i in Nm1:\n",
    "    #Rk =  i.text\n",
    "    if i is None:\n",
    "        Name11.append('--')\n",
    "    else :   \n",
    "        Name11.append(i.text)\n",
    "\n"
   ]
  },
  {
   "cell_type": "code",
   "execution_count": 85,
   "id": "35f494e8",
   "metadata": {},
   "outputs": [
    {
     "name": "stdout",
     "output_type": "stream",
     "text": [
      "30\n"
     ]
    }
   ],
   "source": [
    "print(len(Name11))"
   ]
  },
  {
   "cell_type": "code",
   "execution_count": 44,
   "id": "fc14ca6c",
   "metadata": {},
   "outputs": [
    {
     "name": "stdout",
     "output_type": "stream",
     "text": [
      "['Baby Shark Dance', 'Despacito', 'Johny Johny Yes Papa', 'Bath Song', 'Shape of You', 'See You Again', 'Wheels on the Bus', 'Phonics Song with Two Words', 'Uptown Funk', 'Gangnam Style', 'Learning Colors – Colorful Eggs on a Farm', 'Dame Tu Cosita', 'Masha and the Bear', 'Axel F', 'Sugar', 'Baa Baa Black Sheep', 'Counting Stars', 'Lakdi Ki Kathi', 'Roar', 'Waka Waka (This Time for Africa)', 'Sorry', 'Shree Hanuman Chalisa', 'Humpty the train on a fruits ride', 'Thinking Out Loud', 'Perfect', 'Dark Horse', 'Let Her Go', 'Faded', 'Girls Like You', 'Lean On']\n"
     ]
    }
   ],
   "source": [
    "print(Name11)"
   ]
  },
  {
   "cell_type": "code",
   "execution_count": 63,
   "id": "3d45df40",
   "metadata": {},
   "outputs": [],
   "source": [
    "Art = driver.find_elements(By.XPATH,'//table[@class=\"sortable wikitable sticky-header static-row-numbers sort-under col3center col4right jquery-tablesorter\"]/tbody/tr/td[2]/a')\n",
    "for i in Art:\n",
    "    #Rk =  i.text\n",
    "    if i is None:\n",
    "        Artist2.append('--')\n",
    "    else :   \n",
    "        Artist2.append(i.text)\n",
    "        "
   ]
  },
  {
   "cell_type": "code",
   "execution_count": 65,
   "id": "a1661d1b",
   "metadata": {},
   "outputs": [
    {
     "name": "stdout",
     "output_type": "stream",
     "text": [
      "30\n"
     ]
    }
   ],
   "source": [
    "print(len(Artist2))"
   ]
  },
  {
   "cell_type": "code",
   "execution_count": 76,
   "id": "562477e4",
   "metadata": {},
   "outputs": [
    {
     "name": "stdout",
     "output_type": "stream",
     "text": [
      "[\"Pinkfong Baby Shark - Kids' Songs & Stories\", 'Luis Fonsi', \"LooLoo Kids - Nursery Rhymes and Children's Songs\", 'Cocomelon - Nursery Rhymes', 'Ed Sheeran', 'Wiz Khalifa', 'Cocomelon - Nursery Rhymes', 'ChuChu TV Nursery Rhymes & Kids Songs', 'Mark Ronson', 'Psy', 'Miroshka TV', 'Ultra Records', 'Get Movies', 'Crazy Frog', 'Maroon 5', 'Cocomelon - Nursery Rhymes', 'OneRepublic', 'jingle=\"\" toons<=\"\" td=\"\">', 'Katy Perry', 'Shakira', 'Justin Bieber', 'T-Series Bhakti Sagar', 'Kiddiestv Hindi - Nursery Rhymes & Kids Songs', 'Ed Sheeran', 'Ed Sheeran', 'Katy Perry', 'Passenger', 'Alan Walker', 'Maroon 5', 'Major Lazer Official']\n"
     ]
    }
   ],
   "source": [
    "print(Artist2)"
   ]
  },
  {
   "cell_type": "code",
   "execution_count": 67,
   "id": "97e8a728",
   "metadata": {},
   "outputs": [],
   "source": [
    "Upld = driver.find_elements(By.XPATH,'//table[@class=\"sortable wikitable sticky-header static-row-numbers sort-under col3center col4right jquery-tablesorter\"]/tbody/tr/td[4]')\n",
    "for i in Upld:\n",
    "    #Rk =  i.text\n",
    "    if i is None:\n",
    "        Upload_Date1.append('--')\n",
    "    else :   \n",
    "        Upload_Date1.append(i.text)\n",
    "        "
   ]
  },
  {
   "cell_type": "code",
   "execution_count": 70,
   "id": "ad7a3283",
   "metadata": {},
   "outputs": [
    {
     "name": "stdout",
     "output_type": "stream",
     "text": [
      "30\n"
     ]
    }
   ],
   "source": [
    "print(len(Upload_Date1))"
   ]
  },
  {
   "cell_type": "code",
   "execution_count": 71,
   "id": "83edea32",
   "metadata": {},
   "outputs": [],
   "source": [
    "Vw = driver.find_elements(By.XPATH,'//table[@class=\"sortable wikitable sticky-header static-row-numbers sort-under col3center col4right jquery-tablesorter\"]/tbody/tr/td[3]')\n",
    "for i in Vw:\n",
    "    #Rk =  i.text\n",
    "    if i is None:\n",
    "        Views1.append('--')\n",
    "    else :   \n",
    "        Views1.append(i.text)\n",
    "    "
   ]
  },
  {
   "cell_type": "code",
   "execution_count": 72,
   "id": "01bc292b",
   "metadata": {},
   "outputs": [
    {
     "name": "stdout",
     "output_type": "stream",
     "text": [
      "30\n"
     ]
    }
   ],
   "source": [
    "print(len(Views1))"
   ]
  },
  {
   "cell_type": "code",
   "execution_count": 78,
   "id": "158692a2",
   "metadata": {},
   "outputs": [],
   "source": [
    "import pandas as pd"
   ]
  },
  {
   "cell_type": "code",
   "execution_count": 86,
   "id": "09eaedf9",
   "metadata": {},
   "outputs": [],
   "source": [
    "df = pd.DataFrame({'Name':Name11, 'Artist':Artist2,'upload':Upload_Date1, 'View':Views1})"
   ]
  },
  {
   "cell_type": "code",
   "execution_count": 87,
   "id": "979a04b4",
   "metadata": {},
   "outputs": [
    {
     "data": {
      "text/html": [
       "<div>\n",
       "<style scoped>\n",
       "    .dataframe tbody tr th:only-of-type {\n",
       "        vertical-align: middle;\n",
       "    }\n",
       "\n",
       "    .dataframe tbody tr th {\n",
       "        vertical-align: top;\n",
       "    }\n",
       "\n",
       "    .dataframe thead th {\n",
       "        text-align: right;\n",
       "    }\n",
       "</style>\n",
       "<table border=\"1\" class=\"dataframe\">\n",
       "  <thead>\n",
       "    <tr style=\"text-align: right;\">\n",
       "      <th></th>\n",
       "      <th>Name</th>\n",
       "      <th>Artist</th>\n",
       "      <th>upload</th>\n",
       "      <th>View</th>\n",
       "    </tr>\n",
       "  </thead>\n",
       "  <tbody>\n",
       "    <tr>\n",
       "      <th>0</th>\n",
       "      <td>Baby Shark Dance</td>\n",
       "      <td>Pinkfong Baby Shark - Kids' Songs &amp; Stories</td>\n",
       "      <td>June 17, 2016</td>\n",
       "      <td>14.32</td>\n",
       "    </tr>\n",
       "    <tr>\n",
       "      <th>1</th>\n",
       "      <td>Despacito</td>\n",
       "      <td>Luis Fonsi</td>\n",
       "      <td>January 12, 2017</td>\n",
       "      <td>8.41</td>\n",
       "    </tr>\n",
       "    <tr>\n",
       "      <th>2</th>\n",
       "      <td>Johny Johny Yes Papa</td>\n",
       "      <td>LooLoo Kids - Nursery Rhymes and Children's Songs</td>\n",
       "      <td>October 8, 2016</td>\n",
       "      <td>6.89</td>\n",
       "    </tr>\n",
       "    <tr>\n",
       "      <th>3</th>\n",
       "      <td>Bath Song</td>\n",
       "      <td>Cocomelon - Nursery Rhymes</td>\n",
       "      <td>May 2, 2018</td>\n",
       "      <td>6.66</td>\n",
       "    </tr>\n",
       "    <tr>\n",
       "      <th>4</th>\n",
       "      <td>Shape of You</td>\n",
       "      <td>Ed Sheeran</td>\n",
       "      <td>January 30, 2017</td>\n",
       "      <td>6.23</td>\n",
       "    </tr>\n",
       "    <tr>\n",
       "      <th>5</th>\n",
       "      <td>See You Again</td>\n",
       "      <td>Wiz Khalifa</td>\n",
       "      <td>April 6, 2015</td>\n",
       "      <td>6.22</td>\n",
       "    </tr>\n",
       "    <tr>\n",
       "      <th>6</th>\n",
       "      <td>Wheels on the Bus</td>\n",
       "      <td>Cocomelon - Nursery Rhymes</td>\n",
       "      <td>May 24, 2018</td>\n",
       "      <td>6.01</td>\n",
       "    </tr>\n",
       "    <tr>\n",
       "      <th>7</th>\n",
       "      <td>Phonics Song with Two Words</td>\n",
       "      <td>ChuChu TV Nursery Rhymes &amp; Kids Songs</td>\n",
       "      <td>March 6, 2014</td>\n",
       "      <td>5.75</td>\n",
       "    </tr>\n",
       "    <tr>\n",
       "      <th>8</th>\n",
       "      <td>Uptown Funk</td>\n",
       "      <td>Mark Ronson</td>\n",
       "      <td>November 19, 2014</td>\n",
       "      <td>5.18</td>\n",
       "    </tr>\n",
       "    <tr>\n",
       "      <th>9</th>\n",
       "      <td>Gangnam Style</td>\n",
       "      <td>Psy</td>\n",
       "      <td>July 15, 2012</td>\n",
       "      <td>5.10</td>\n",
       "    </tr>\n",
       "    <tr>\n",
       "      <th>10</th>\n",
       "      <td>Learning Colors – Colorful Eggs on a Farm</td>\n",
       "      <td>Miroshka TV</td>\n",
       "      <td>February 27, 2018</td>\n",
       "      <td>5.09</td>\n",
       "    </tr>\n",
       "    <tr>\n",
       "      <th>11</th>\n",
       "      <td>Dame Tu Cosita</td>\n",
       "      <td>Ultra Records</td>\n",
       "      <td>April 5, 2018</td>\n",
       "      <td>4.59</td>\n",
       "    </tr>\n",
       "    <tr>\n",
       "      <th>12</th>\n",
       "      <td>Masha and the Bear</td>\n",
       "      <td>Get Movies</td>\n",
       "      <td>January 31, 2012</td>\n",
       "      <td>4.57</td>\n",
       "    </tr>\n",
       "    <tr>\n",
       "      <th>13</th>\n",
       "      <td>Axel F</td>\n",
       "      <td>Crazy Frog</td>\n",
       "      <td>June 16, 2009</td>\n",
       "      <td>4.45</td>\n",
       "    </tr>\n",
       "    <tr>\n",
       "      <th>14</th>\n",
       "      <td>Sugar</td>\n",
       "      <td>Maroon 5</td>\n",
       "      <td>January 14, 2015</td>\n",
       "      <td>4.02</td>\n",
       "    </tr>\n",
       "    <tr>\n",
       "      <th>15</th>\n",
       "      <td>Baa Baa Black Sheep</td>\n",
       "      <td>Cocomelon - Nursery Rhymes</td>\n",
       "      <td>June 25, 2018</td>\n",
       "      <td>4.01</td>\n",
       "    </tr>\n",
       "    <tr>\n",
       "      <th>16</th>\n",
       "      <td>Counting Stars</td>\n",
       "      <td>OneRepublic</td>\n",
       "      <td>May 31, 2013</td>\n",
       "      <td>4.00</td>\n",
       "    </tr>\n",
       "    <tr>\n",
       "      <th>17</th>\n",
       "      <td>Lakdi Ki Kathi</td>\n",
       "      <td>jingle=\"\" toons&lt;=\"\" td=\"\"&gt;</td>\n",
       "      <td>June 14, 2018</td>\n",
       "      <td>3.98</td>\n",
       "    </tr>\n",
       "    <tr>\n",
       "      <th>18</th>\n",
       "      <td>Roar</td>\n",
       "      <td>Katy Perry</td>\n",
       "      <td>September 5, 2013</td>\n",
       "      <td>3.98</td>\n",
       "    </tr>\n",
       "    <tr>\n",
       "      <th>19</th>\n",
       "      <td>Waka Waka (This Time for Africa)</td>\n",
       "      <td>Shakira</td>\n",
       "      <td>June 4, 2010</td>\n",
       "      <td>3.89</td>\n",
       "    </tr>\n",
       "    <tr>\n",
       "      <th>20</th>\n",
       "      <td>Sorry</td>\n",
       "      <td>Justin Bieber</td>\n",
       "      <td>October 22, 2015</td>\n",
       "      <td>3.78</td>\n",
       "    </tr>\n",
       "    <tr>\n",
       "      <th>21</th>\n",
       "      <td>Shree Hanuman Chalisa</td>\n",
       "      <td>T-Series Bhakti Sagar</td>\n",
       "      <td>May 10, 2011</td>\n",
       "      <td>3.77</td>\n",
       "    </tr>\n",
       "    <tr>\n",
       "      <th>22</th>\n",
       "      <td>Humpty the train on a fruits ride</td>\n",
       "      <td>Kiddiestv Hindi - Nursery Rhymes &amp; Kids Songs</td>\n",
       "      <td>January 26, 2018</td>\n",
       "      <td>3.76</td>\n",
       "    </tr>\n",
       "    <tr>\n",
       "      <th>23</th>\n",
       "      <td>Thinking Out Loud</td>\n",
       "      <td>Ed Sheeran</td>\n",
       "      <td>October 7, 2014</td>\n",
       "      <td>3.75</td>\n",
       "    </tr>\n",
       "    <tr>\n",
       "      <th>24</th>\n",
       "      <td>Perfect</td>\n",
       "      <td>Ed Sheeran</td>\n",
       "      <td>November 9, 2017</td>\n",
       "      <td>3.70</td>\n",
       "    </tr>\n",
       "    <tr>\n",
       "      <th>25</th>\n",
       "      <td>Dark Horse</td>\n",
       "      <td>Katy Perry</td>\n",
       "      <td>February 20, 2014</td>\n",
       "      <td>3.70</td>\n",
       "    </tr>\n",
       "    <tr>\n",
       "      <th>26</th>\n",
       "      <td>Let Her Go</td>\n",
       "      <td>Passenger</td>\n",
       "      <td>July 25, 2012</td>\n",
       "      <td>3.64</td>\n",
       "    </tr>\n",
       "    <tr>\n",
       "      <th>27</th>\n",
       "      <td>Faded</td>\n",
       "      <td>Alan Walker</td>\n",
       "      <td>December 3, 2015</td>\n",
       "      <td>3.60</td>\n",
       "    </tr>\n",
       "    <tr>\n",
       "      <th>28</th>\n",
       "      <td>Girls Like You</td>\n",
       "      <td>Maroon 5</td>\n",
       "      <td>May 31, 2018</td>\n",
       "      <td>3.58</td>\n",
       "    </tr>\n",
       "    <tr>\n",
       "      <th>29</th>\n",
       "      <td>Lean On</td>\n",
       "      <td>Major Lazer Official</td>\n",
       "      <td>March 22, 2015</td>\n",
       "      <td>3.57</td>\n",
       "    </tr>\n",
       "  </tbody>\n",
       "</table>\n",
       "</div>"
      ],
      "text/plain": [
       "                                         Name  \\\n",
       "0                            Baby Shark Dance   \n",
       "1                                   Despacito   \n",
       "2                        Johny Johny Yes Papa   \n",
       "3                                   Bath Song   \n",
       "4                                Shape of You   \n",
       "5                               See You Again   \n",
       "6                           Wheels on the Bus   \n",
       "7                 Phonics Song with Two Words   \n",
       "8                                 Uptown Funk   \n",
       "9                               Gangnam Style   \n",
       "10  Learning Colors – Colorful Eggs on a Farm   \n",
       "11                             Dame Tu Cosita   \n",
       "12                         Masha and the Bear   \n",
       "13                                     Axel F   \n",
       "14                                      Sugar   \n",
       "15                        Baa Baa Black Sheep   \n",
       "16                             Counting Stars   \n",
       "17                             Lakdi Ki Kathi   \n",
       "18                                       Roar   \n",
       "19           Waka Waka (This Time for Africa)   \n",
       "20                                      Sorry   \n",
       "21                      Shree Hanuman Chalisa   \n",
       "22          Humpty the train on a fruits ride   \n",
       "23                          Thinking Out Loud   \n",
       "24                                    Perfect   \n",
       "25                                 Dark Horse   \n",
       "26                                 Let Her Go   \n",
       "27                                      Faded   \n",
       "28                             Girls Like You   \n",
       "29                                    Lean On   \n",
       "\n",
       "                                               Artist             upload  \\\n",
       "0         Pinkfong Baby Shark - Kids' Songs & Stories      June 17, 2016   \n",
       "1                                          Luis Fonsi   January 12, 2017   \n",
       "2   LooLoo Kids - Nursery Rhymes and Children's Songs    October 8, 2016   \n",
       "3                          Cocomelon - Nursery Rhymes        May 2, 2018   \n",
       "4                                          Ed Sheeran   January 30, 2017   \n",
       "5                                         Wiz Khalifa      April 6, 2015   \n",
       "6                          Cocomelon - Nursery Rhymes       May 24, 2018   \n",
       "7               ChuChu TV Nursery Rhymes & Kids Songs      March 6, 2014   \n",
       "8                                         Mark Ronson  November 19, 2014   \n",
       "9                                                 Psy      July 15, 2012   \n",
       "10                                        Miroshka TV  February 27, 2018   \n",
       "11                                      Ultra Records      April 5, 2018   \n",
       "12                                         Get Movies   January 31, 2012   \n",
       "13                                         Crazy Frog      June 16, 2009   \n",
       "14                                           Maroon 5   January 14, 2015   \n",
       "15                         Cocomelon - Nursery Rhymes      June 25, 2018   \n",
       "16                                        OneRepublic       May 31, 2013   \n",
       "17                         jingle=\"\" toons<=\"\" td=\"\">      June 14, 2018   \n",
       "18                                         Katy Perry  September 5, 2013   \n",
       "19                                            Shakira       June 4, 2010   \n",
       "20                                      Justin Bieber   October 22, 2015   \n",
       "21                              T-Series Bhakti Sagar       May 10, 2011   \n",
       "22      Kiddiestv Hindi - Nursery Rhymes & Kids Songs   January 26, 2018   \n",
       "23                                         Ed Sheeran    October 7, 2014   \n",
       "24                                         Ed Sheeran   November 9, 2017   \n",
       "25                                         Katy Perry  February 20, 2014   \n",
       "26                                          Passenger      July 25, 2012   \n",
       "27                                        Alan Walker   December 3, 2015   \n",
       "28                                           Maroon 5       May 31, 2018   \n",
       "29                               Major Lazer Official     March 22, 2015   \n",
       "\n",
       "     View  \n",
       "0   14.32  \n",
       "1    8.41  \n",
       "2    6.89  \n",
       "3    6.66  \n",
       "4    6.23  \n",
       "5    6.22  \n",
       "6    6.01  \n",
       "7    5.75  \n",
       "8    5.18  \n",
       "9    5.10  \n",
       "10   5.09  \n",
       "11   4.59  \n",
       "12   4.57  \n",
       "13   4.45  \n",
       "14   4.02  \n",
       "15   4.01  \n",
       "16   4.00  \n",
       "17   3.98  \n",
       "18   3.98  \n",
       "19   3.89  \n",
       "20   3.78  \n",
       "21   3.77  \n",
       "22   3.76  \n",
       "23   3.75  \n",
       "24   3.70  \n",
       "25   3.70  \n",
       "26   3.64  \n",
       "27   3.60  \n",
       "28   3.58  \n",
       "29   3.57  "
      ]
     },
     "execution_count": 87,
     "metadata": {},
     "output_type": "execute_result"
    }
   ],
   "source": [
    "df"
   ]
  },
  {
   "cell_type": "code",
   "execution_count": 88,
   "id": "1a0f4d11",
   "metadata": {},
   "outputs": [],
   "source": [
    "driver = webdriver.Chrome()"
   ]
  },
  {
   "cell_type": "code",
   "execution_count": 89,
   "id": "4858a0c7",
   "metadata": {},
   "outputs": [],
   "source": [
    "driver.get('https://www.bcci.tv/fixtures?platform=international&type=men')"
   ]
  },
  {
   "cell_type": "code",
   "execution_count": 131,
   "id": "143e5101",
   "metadata": {},
   "outputs": [],
   "source": [
    "Series=[]\n",
    "Place=[]\n",
    "Date1=[]\n",
    "Time1=[] "
   ]
  },
  {
   "cell_type": "code",
   "execution_count": 137,
   "id": "35a2b4f7",
   "metadata": {},
   "outputs": [],
   "source": [
    "srs = driver.find_elements(By.XPATH,'//h5[@class=\"match-tournament-name ng-binding\"]')\n",
    "for i in srs:\n",
    "  if i is None :\n",
    "        Series.append('--')\n",
    "  else:   \n",
    "     Series.append(i.text)\n"
   ]
  },
  {
   "cell_type": "code",
   "execution_count": 138,
   "id": "ad504eff",
   "metadata": {},
   "outputs": [
    {
     "name": "stdout",
     "output_type": "stream",
     "text": [
      "9\n"
     ]
    }
   ],
   "source": [
    "print(len(Series))"
   ]
  },
  {
   "cell_type": "code",
   "execution_count": 139,
   "id": "2aa7f76b",
   "metadata": {},
   "outputs": [
    {
     "name": "stdout",
     "output_type": "stream",
     "text": [
      "['INDIA WOMEN TOUR OF BANGLADESH T20 SERIES 2024', 'ICC MENS T20 WORLD CUP 2024', 'ICC MENS T20 WORLD CUP 2024', 'ICC MENS T20 WORLD CUP 2024', 'ICC MENS T20 WORLD CUP 2024', 'INDIA TOUR OF ZIMBABWE 2024', 'INDIA TOUR OF ZIMBABWE 2024', 'INDIA TOUR OF ZIMBABWE 2024', 'INDIA TOUR OF ZIMBABWE 2024']\n"
     ]
    }
   ],
   "source": [
    "print(Series)"
   ]
  },
  {
   "cell_type": "code",
   "execution_count": 141,
   "id": "4387972f",
   "metadata": {},
   "outputs": [],
   "source": [
    "plc = driver.find_elements(By.XPATH,'//span[@class=\"ng-binding\"]')\n",
    "for i in plc:\n",
    "  if i is None :\n",
    "    Place.append('--')\n",
    "  else:   \n",
    "    Place.append(i.text)"
   ]
  },
  {
   "cell_type": "code",
   "execution_count": 142,
   "id": "6463b657",
   "metadata": {},
   "outputs": [
    {
     "name": "stdout",
     "output_type": "stream",
     "text": [
      "9\n"
     ]
    }
   ],
   "source": [
    "print(len(Place))"
   ]
  },
  {
   "cell_type": "code",
   "execution_count": 143,
   "id": "a9af8faf",
   "metadata": {},
   "outputs": [
    {
     "name": "stdout",
     "output_type": "stream",
     "text": [
      "['Sylhet', 'New York', 'New York', 'New York', 'Florida', 'Harare', 'Harare', 'Harare', 'Harare']\n"
     ]
    }
   ],
   "source": [
    "print(Place)"
   ]
  },
  {
   "cell_type": "code",
   "execution_count": 145,
   "id": "7559e1a8",
   "metadata": {},
   "outputs": [],
   "source": [
    "Dt = driver.find_elements(By.XPATH, '//div[@class=\"match-dates ng-binding\"]')\n",
    "for i in Dt:\n",
    "    if i is None :\n",
    "        Date1.append('--')\n",
    "    else:   \n",
    "        Date1.append(i.text)\n"
   ]
  },
  {
   "cell_type": "code",
   "execution_count": 146,
   "id": "16356325",
   "metadata": {},
   "outputs": [
    {
     "name": "stdout",
     "output_type": "stream",
     "text": [
      "9\n"
     ]
    }
   ],
   "source": [
    "print(len(Date1))"
   ]
  },
  {
   "cell_type": "code",
   "execution_count": 147,
   "id": "284de713",
   "metadata": {},
   "outputs": [
    {
     "name": "stdout",
     "output_type": "stream",
     "text": [
      "['9 MAY, 2024', '5 JUNE, 2024', '9 JUNE, 2024', '12 JUNE, 2024', '15 JUNE, 2024', '6 JULY, 2024', '7 JULY, 2024', '10 JULY, 2024', '13 JULY, 2024']\n"
     ]
    }
   ],
   "source": [
    "print(Date1)"
   ]
  },
  {
   "cell_type": "code",
   "execution_count": 149,
   "id": "2ac48660",
   "metadata": {},
   "outputs": [],
   "source": [
    "tm = driver.find_elements(By.XPATH, '//div[@class=\"match-time no-margin ng-binding\"]')\n",
    "for i in tm:\n",
    "    if i is None :\n",
    "        Time1.append('--')\n",
    "    else:   \n",
    "        Time1.append(i.text)"
   ]
  },
  {
   "cell_type": "code",
   "execution_count": 150,
   "id": "4f936b31",
   "metadata": {},
   "outputs": [
    {
     "name": "stdout",
     "output_type": "stream",
     "text": [
      "9\n"
     ]
    }
   ],
   "source": [
    "print(len(Time1))"
   ]
  },
  {
   "cell_type": "code",
   "execution_count": 151,
   "id": "33082801",
   "metadata": {},
   "outputs": [
    {
     "name": "stdout",
     "output_type": "stream",
     "text": [
      "['3:30 PM IST', '8:00 PM IST', '8:00 PM IST', '8:00 PM IST', '8:00 PM IST', '8:00 PM IST', '8:00 PM IST', '8:00 PM IST', '8:00 PM IST']\n"
     ]
    }
   ],
   "source": [
    "print(Time1)"
   ]
  },
  {
   "cell_type": "code",
   "execution_count": 152,
   "id": "67eccd13",
   "metadata": {},
   "outputs": [
    {
     "data": {
      "text/html": [
       "<div>\n",
       "<style scoped>\n",
       "    .dataframe tbody tr th:only-of-type {\n",
       "        vertical-align: middle;\n",
       "    }\n",
       "\n",
       "    .dataframe tbody tr th {\n",
       "        vertical-align: top;\n",
       "    }\n",
       "\n",
       "    .dataframe thead th {\n",
       "        text-align: right;\n",
       "    }\n",
       "</style>\n",
       "<table border=\"1\" class=\"dataframe\">\n",
       "  <thead>\n",
       "    <tr style=\"text-align: right;\">\n",
       "      <th></th>\n",
       "      <th>Series</th>\n",
       "      <th>Place</th>\n",
       "      <th>Date</th>\n",
       "      <th>Time</th>\n",
       "    </tr>\n",
       "  </thead>\n",
       "  <tbody>\n",
       "    <tr>\n",
       "      <th>0</th>\n",
       "      <td>INDIA WOMEN TOUR OF BANGLADESH T20 SERIES 2024</td>\n",
       "      <td>Sylhet</td>\n",
       "      <td>9 MAY, 2024</td>\n",
       "      <td>3:30 PM IST</td>\n",
       "    </tr>\n",
       "    <tr>\n",
       "      <th>1</th>\n",
       "      <td>ICC MENS T20 WORLD CUP 2024</td>\n",
       "      <td>New York</td>\n",
       "      <td>5 JUNE, 2024</td>\n",
       "      <td>8:00 PM IST</td>\n",
       "    </tr>\n",
       "    <tr>\n",
       "      <th>2</th>\n",
       "      <td>ICC MENS T20 WORLD CUP 2024</td>\n",
       "      <td>New York</td>\n",
       "      <td>9 JUNE, 2024</td>\n",
       "      <td>8:00 PM IST</td>\n",
       "    </tr>\n",
       "    <tr>\n",
       "      <th>3</th>\n",
       "      <td>ICC MENS T20 WORLD CUP 2024</td>\n",
       "      <td>New York</td>\n",
       "      <td>12 JUNE, 2024</td>\n",
       "      <td>8:00 PM IST</td>\n",
       "    </tr>\n",
       "    <tr>\n",
       "      <th>4</th>\n",
       "      <td>ICC MENS T20 WORLD CUP 2024</td>\n",
       "      <td>Florida</td>\n",
       "      <td>15 JUNE, 2024</td>\n",
       "      <td>8:00 PM IST</td>\n",
       "    </tr>\n",
       "    <tr>\n",
       "      <th>5</th>\n",
       "      <td>INDIA TOUR OF ZIMBABWE 2024</td>\n",
       "      <td>Harare</td>\n",
       "      <td>6 JULY, 2024</td>\n",
       "      <td>8:00 PM IST</td>\n",
       "    </tr>\n",
       "    <tr>\n",
       "      <th>6</th>\n",
       "      <td>INDIA TOUR OF ZIMBABWE 2024</td>\n",
       "      <td>Harare</td>\n",
       "      <td>7 JULY, 2024</td>\n",
       "      <td>8:00 PM IST</td>\n",
       "    </tr>\n",
       "    <tr>\n",
       "      <th>7</th>\n",
       "      <td>INDIA TOUR OF ZIMBABWE 2024</td>\n",
       "      <td>Harare</td>\n",
       "      <td>10 JULY, 2024</td>\n",
       "      <td>8:00 PM IST</td>\n",
       "    </tr>\n",
       "    <tr>\n",
       "      <th>8</th>\n",
       "      <td>INDIA TOUR OF ZIMBABWE 2024</td>\n",
       "      <td>Harare</td>\n",
       "      <td>13 JULY, 2024</td>\n",
       "      <td>8:00 PM IST</td>\n",
       "    </tr>\n",
       "  </tbody>\n",
       "</table>\n",
       "</div>"
      ],
      "text/plain": [
       "                                           Series     Place           Date  \\\n",
       "0  INDIA WOMEN TOUR OF BANGLADESH T20 SERIES 2024    Sylhet    9 MAY, 2024   \n",
       "1                     ICC MENS T20 WORLD CUP 2024  New York   5 JUNE, 2024   \n",
       "2                     ICC MENS T20 WORLD CUP 2024  New York   9 JUNE, 2024   \n",
       "3                     ICC MENS T20 WORLD CUP 2024  New York  12 JUNE, 2024   \n",
       "4                     ICC MENS T20 WORLD CUP 2024   Florida  15 JUNE, 2024   \n",
       "5                     INDIA TOUR OF ZIMBABWE 2024    Harare   6 JULY, 2024   \n",
       "6                     INDIA TOUR OF ZIMBABWE 2024    Harare   7 JULY, 2024   \n",
       "7                     INDIA TOUR OF ZIMBABWE 2024    Harare  10 JULY, 2024   \n",
       "8                     INDIA TOUR OF ZIMBABWE 2024    Harare  13 JULY, 2024   \n",
       "\n",
       "          Time  \n",
       "0  3:30 PM IST  \n",
       "1  8:00 PM IST  \n",
       "2  8:00 PM IST  \n",
       "3  8:00 PM IST  \n",
       "4  8:00 PM IST  \n",
       "5  8:00 PM IST  \n",
       "6  8:00 PM IST  \n",
       "7  8:00 PM IST  \n",
       "8  8:00 PM IST  "
      ]
     },
     "execution_count": 152,
     "metadata": {},
     "output_type": "execute_result"
    }
   ],
   "source": [
    "\n",
    "df = pd.DataFrame({'Series':Series, 'Place':Place, 'Date': Date1, 'Time':Time1})\n",
    "df"
   ]
  },
  {
   "cell_type": "code",
   "execution_count": 154,
   "id": "3db62679",
   "metadata": {},
   "outputs": [
    {
     "data": {
      "text/html": [
       "<div>\n",
       "<style scoped>\n",
       "    .dataframe tbody tr th:only-of-type {\n",
       "        vertical-align: middle;\n",
       "    }\n",
       "\n",
       "    .dataframe tbody tr th {\n",
       "        vertical-align: top;\n",
       "    }\n",
       "\n",
       "    .dataframe thead th {\n",
       "        text-align: right;\n",
       "    }\n",
       "</style>\n",
       "<table border=\"1\" class=\"dataframe\">\n",
       "  <thead>\n",
       "    <tr style=\"text-align: right;\">\n",
       "      <th></th>\n",
       "      <th>Series</th>\n",
       "      <th>Place</th>\n",
       "      <th>Date</th>\n",
       "      <th>Time</th>\n",
       "    </tr>\n",
       "  </thead>\n",
       "  <tbody>\n",
       "    <tr>\n",
       "      <th>0</th>\n",
       "      <td>INDIA WOMEN TOUR OF BANGLADESH T20 SERIES 2024</td>\n",
       "      <td>Sylhet</td>\n",
       "      <td>9 MAY, 2024</td>\n",
       "      <td>3:30 PM IST</td>\n",
       "    </tr>\n",
       "    <tr>\n",
       "      <th>1</th>\n",
       "      <td>ICC MENS T20 WORLD CUP 2024</td>\n",
       "      <td>New York</td>\n",
       "      <td>5 JUNE, 2024</td>\n",
       "      <td>8:00 PM IST</td>\n",
       "    </tr>\n",
       "    <tr>\n",
       "      <th>2</th>\n",
       "      <td>ICC MENS T20 WORLD CUP 2024</td>\n",
       "      <td>New York</td>\n",
       "      <td>9 JUNE, 2024</td>\n",
       "      <td>8:00 PM IST</td>\n",
       "    </tr>\n",
       "    <tr>\n",
       "      <th>3</th>\n",
       "      <td>ICC MENS T20 WORLD CUP 2024</td>\n",
       "      <td>New York</td>\n",
       "      <td>12 JUNE, 2024</td>\n",
       "      <td>8:00 PM IST</td>\n",
       "    </tr>\n",
       "    <tr>\n",
       "      <th>4</th>\n",
       "      <td>ICC MENS T20 WORLD CUP 2024</td>\n",
       "      <td>Florida</td>\n",
       "      <td>15 JUNE, 2024</td>\n",
       "      <td>8:00 PM IST</td>\n",
       "    </tr>\n",
       "    <tr>\n",
       "      <th>5</th>\n",
       "      <td>INDIA TOUR OF ZIMBABWE 2024</td>\n",
       "      <td>Harare</td>\n",
       "      <td>6 JULY, 2024</td>\n",
       "      <td>8:00 PM IST</td>\n",
       "    </tr>\n",
       "    <tr>\n",
       "      <th>6</th>\n",
       "      <td>INDIA TOUR OF ZIMBABWE 2024</td>\n",
       "      <td>Harare</td>\n",
       "      <td>7 JULY, 2024</td>\n",
       "      <td>8:00 PM IST</td>\n",
       "    </tr>\n",
       "    <tr>\n",
       "      <th>7</th>\n",
       "      <td>INDIA TOUR OF ZIMBABWE 2024</td>\n",
       "      <td>Harare</td>\n",
       "      <td>10 JULY, 2024</td>\n",
       "      <td>8:00 PM IST</td>\n",
       "    </tr>\n",
       "    <tr>\n",
       "      <th>8</th>\n",
       "      <td>INDIA TOUR OF ZIMBABWE 2024</td>\n",
       "      <td>Harare</td>\n",
       "      <td>13 JULY, 2024</td>\n",
       "      <td>8:00 PM IST</td>\n",
       "    </tr>\n",
       "  </tbody>\n",
       "</table>\n",
       "</div>"
      ],
      "text/plain": [
       "                                           Series     Place           Date  \\\n",
       "0  INDIA WOMEN TOUR OF BANGLADESH T20 SERIES 2024    Sylhet    9 MAY, 2024   \n",
       "1                     ICC MENS T20 WORLD CUP 2024  New York   5 JUNE, 2024   \n",
       "2                     ICC MENS T20 WORLD CUP 2024  New York   9 JUNE, 2024   \n",
       "3                     ICC MENS T20 WORLD CUP 2024  New York  12 JUNE, 2024   \n",
       "4                     ICC MENS T20 WORLD CUP 2024   Florida  15 JUNE, 2024   \n",
       "5                     INDIA TOUR OF ZIMBABWE 2024    Harare   6 JULY, 2024   \n",
       "6                     INDIA TOUR OF ZIMBABWE 2024    Harare   7 JULY, 2024   \n",
       "7                     INDIA TOUR OF ZIMBABWE 2024    Harare  10 JULY, 2024   \n",
       "8                     INDIA TOUR OF ZIMBABWE 2024    Harare  13 JULY, 2024   \n",
       "\n",
       "          Time  \n",
       "0  3:30 PM IST  \n",
       "1  8:00 PM IST  \n",
       "2  8:00 PM IST  \n",
       "3  8:00 PM IST  \n",
       "4  8:00 PM IST  \n",
       "5  8:00 PM IST  \n",
       "6  8:00 PM IST  \n",
       "7  8:00 PM IST  \n",
       "8  8:00 PM IST  "
      ]
     },
     "execution_count": 154,
     "metadata": {},
     "output_type": "execute_result"
    }
   ],
   "source": [
    "df"
   ]
  },
  {
   "cell_type": "code",
   "execution_count": null,
   "id": "e8a61697",
   "metadata": {},
   "outputs": [],
   "source": []
  },
  {
   "cell_type": "code",
   "execution_count": null,
   "id": "df14578b",
   "metadata": {},
   "outputs": [],
   "source": []
  }
 ],
 "metadata": {
  "kernelspec": {
   "display_name": "Python 3 (ipykernel)",
   "language": "python",
   "name": "python3"
  },
  "language_info": {
   "codemirror_mode": {
    "name": "ipython",
    "version": 3
   },
   "file_extension": ".py",
   "mimetype": "text/x-python",
   "name": "python",
   "nbconvert_exporter": "python",
   "pygments_lexer": "ipython3",
   "version": "3.11.4"
  }
 },
 "nbformat": 4,
 "nbformat_minor": 5
}

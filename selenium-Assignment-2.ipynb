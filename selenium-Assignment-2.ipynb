{
 "cells": [
  {
   "cell_type": "code",
   "execution_count": 1,
   "id": "d2c59944",
   "metadata": {},
   "outputs": [
    {
     "name": "stdout",
     "output_type": "stream",
     "text": [
      "Requirement already satisfied: selenium in c:\\users\\milan\\anaconda3\\lib\\site-packages (4.19.0)\n",
      "Requirement already satisfied: urllib3[socks]<3,>=1.26 in c:\\users\\milan\\anaconda3\\lib\\site-packages (from selenium) (1.26.16)\n",
      "Requirement already satisfied: trio~=0.17 in c:\\users\\milan\\anaconda3\\lib\\site-packages (from selenium) (0.25.0)\n",
      "Requirement already satisfied: trio-websocket~=0.9 in c:\\users\\milan\\anaconda3\\lib\\site-packages (from selenium) (0.11.1)\n",
      "Requirement already satisfied: certifi>=2021.10.8 in c:\\users\\milan\\anaconda3\\lib\\site-packages (from selenium) (2023.7.22)\n",
      "Requirement already satisfied: typing_extensions>=4.9.0 in c:\\users\\milan\\anaconda3\\lib\\site-packages (from selenium) (4.10.0)\n",
      "Requirement already satisfied: attrs>=23.2.0 in c:\\users\\milan\\anaconda3\\lib\\site-packages (from trio~=0.17->selenium) (23.2.0)\n",
      "Requirement already satisfied: sortedcontainers in c:\\users\\milan\\anaconda3\\lib\\site-packages (from trio~=0.17->selenium) (2.4.0)\n",
      "Requirement already satisfied: idna in c:\\users\\milan\\anaconda3\\lib\\site-packages (from trio~=0.17->selenium) (3.4)\n",
      "Requirement already satisfied: outcome in c:\\users\\milan\\anaconda3\\lib\\site-packages (from trio~=0.17->selenium) (1.3.0.post0)\n",
      "Requirement already satisfied: sniffio>=1.3.0 in c:\\users\\milan\\anaconda3\\lib\\site-packages (from trio~=0.17->selenium) (1.3.1)\n",
      "Requirement already satisfied: cffi>=1.14 in c:\\users\\milan\\anaconda3\\lib\\site-packages (from trio~=0.17->selenium) (1.15.1)\n",
      "Requirement already satisfied: wsproto>=0.14 in c:\\users\\milan\\anaconda3\\lib\\site-packages (from trio-websocket~=0.9->selenium) (1.2.0)\n",
      "Requirement already satisfied: PySocks!=1.5.7,<2.0,>=1.5.6 in c:\\users\\milan\\anaconda3\\lib\\site-packages (from urllib3[socks]<3,>=1.26->selenium) (1.7.1)\n",
      "Requirement already satisfied: pycparser in c:\\users\\milan\\anaconda3\\lib\\site-packages (from cffi>=1.14->trio~=0.17->selenium) (2.21)\n",
      "Requirement already satisfied: h11<1,>=0.9.0 in c:\\users\\milan\\anaconda3\\lib\\site-packages (from wsproto>=0.14->trio-websocket~=0.9->selenium) (0.14.0)\n"
     ]
    }
   ],
   "source": [
    "!pip install selenium"
   ]
  },
  {
   "cell_type": "code",
   "execution_count": 2,
   "id": "c9ebc4fc",
   "metadata": {},
   "outputs": [],
   "source": [
    "import selenium\n",
    "import pandas as pd\n",
    "from selenium import webdriver\n",
    "import warnings\n",
    "warnings.filterwarnings('ignore')\n",
    "from selenium.webdriver.common.by import By"
   ]
  },
  {
   "cell_type": "code",
   "execution_count": 10,
   "id": "d86486b7",
   "metadata": {},
   "outputs": [],
   "source": [
    "driver = webdriver.Chrome()"
   ]
  },
  {
   "cell_type": "code",
   "execution_count": 11,
   "id": "8018f909",
   "metadata": {},
   "outputs": [],
   "source": [
    "driver.get(\"https://www.naukri.com/\")"
   ]
  },
  {
   "cell_type": "code",
   "execution_count": 12,
   "id": "25af1c30",
   "metadata": {},
   "outputs": [],
   "source": [
    "designation = driver.find_element(By.CLASS_NAME, \"suggestor-input\")\n",
    "designation.send_keys('Data Scientist')"
   ]
  },
  {
   "cell_type": "code",
   "execution_count": 13,
   "id": "19bf4619",
   "metadata": {},
   "outputs": [],
   "source": [
    "location = driver.find_element(By.XPATH,\"/html/body/div[1]/div[7]/div/div/div[5]/div/div/div/div[1]/div/input\")\n",
    "location.send_keys('Banglore')"
   ]
  },
  {
   "cell_type": "code",
   "execution_count": 14,
   "id": "26374fb1",
   "metadata": {},
   "outputs": [],
   "source": [
    "search = driver.find_element(By.CLASS_NAME,\"qsbSubmit\")\n",
    "search.click()"
   ]
  },
  {
   "cell_type": "code",
   "execution_count": 15,
   "id": "7b3f0560",
   "metadata": {},
   "outputs": [],
   "source": [
    "job_title = []\n",
    "job_location = []\n",
    "company_name = []\n",
    "experince_required = []"
   ]
  },
  {
   "cell_type": "code",
   "execution_count": 16,
   "id": "e82def31",
   "metadata": {},
   "outputs": [],
   "source": [
    "title_tag = driver.find_elements(By.XPATH,'//div[@class=\"cust-job-tuple layout-wrapper lay-2 sjw__tuple \"]/div/a')\n",
    "for i in title_tag:\n",
    "    tiltle =  i.text\n",
    "    job_title.append(tiltle)"
   ]
  },
  {
   "cell_type": "code",
   "execution_count": 11,
   "id": "f53a0f5c",
   "metadata": {},
   "outputs": [
    {
     "name": "stdout",
     "output_type": "stream",
     "text": [
      "['Senior Data Scientist, Reporting', 'Data Scientist, Marketing', 'Data Scientist', 'AI Data Scientist', 'GenAI Data Scientist', 'Reliability Data Scientist', 'Data Scientist I', 'Data Scientist-Senior Associate - P&T Labs', 'Data Scientist(python) Immediate joiner - Remote', 'NLP Data Scientist - Real World Data (RWD)', 'Data Analytics-Corporate HR', 'HCL Hiring||Senior Data Scientist Role||Location Bangalore & Pune', 'Data Scientist', 'DS - NLP Expert', 'Generative AI Data Scientist', 'Data Scientist Architect', 'Data Scientist', 'Data Scientist', 'Python Data Scientist/Analyst-Remote working-Contractual Role', 'Senior Analyst- Clinical Data Management Scientist']\n"
     ]
    }
   ],
   "source": [
    "print(job_title)"
   ]
  },
  {
   "cell_type": "code",
   "execution_count": 14,
   "id": "ccddcb12",
   "metadata": {},
   "outputs": [],
   "source": [
    "location = driver.find_elements(By.XPATH,'//span[@class=\"ni-job-tuple-icon ni-job-tuple-icon-srp-location loc\"]/span')\n",
    "for i in location:\n",
    "    loca =  i.text\n",
    "    job_location.append(loca)"
   ]
  },
  {
   "cell_type": "code",
   "execution_count": 15,
   "id": "76903f35",
   "metadata": {},
   "outputs": [
    {
     "name": "stdout",
     "output_type": "stream",
     "text": [
      "['Kolkata, Mumbai, New Delhi, Hyderabad/Secunderabad, Pune, Chennai, Bangalore/Bengaluru', 'Kolkata, Mumbai, New Delhi, Hyderabad/Secunderabad, Pune, Chennai, Bangalore/Bengaluru', 'Kolkata, Mumbai, New Delhi, Hyderabad, Pune, Chennai, Bengaluru', 'Kolkata, Mumbai, New Delhi, Hyderabad, Pune, Chennai, Bengaluru', 'Kolkata, Mumbai, New Delhi, Hyderabad, Pune, Chennai, Bengaluru', 'Kolkata, Mumbai, New Delhi, Hyderabad, Pune, Chennai, Bengaluru', 'Bengaluru', 'Mumbai, Hyderabad, Bengaluru', 'Remote', 'Kolkata, Mumbai, New Delhi, Hyderabad/Secunderabad, Pune, Chennai, Bangalore/Bengaluru', 'Kolkata, Mumbai, New Delhi, Hyderabad/Secunderabad, Pune, Chennai, Bangalore/Bengaluru', 'Hybrid - Pune, Maharashtra, Bangalore Rural, Karnataka', 'Hybrid - Bangalore Rural, Karnataka, Mumbai (All Areas)', 'Hyderabad, Telangana, Gurugram, Haryana, Bangalore/ Bengaluru, Karnataka', 'Hyderabad, Gurugram, Bengaluru', 'Temp. WFH - Hyderabad, Bengaluru', 'Hyderabad, Chennai, Bengaluru', 'Hybrid - Bengaluru, Karnataka', 'Remote', 'Bengaluru', 'Kolkata, Mumbai, New Delhi, Hyderabad/Secunderabad, Pune, Chennai, Bangalore/Bengaluru', 'Kolkata, Mumbai, New Delhi, Hyderabad/Secunderabad, Pune, Chennai, Bangalore/Bengaluru', 'Kolkata, Mumbai, New Delhi, Hyderabad, Pune, Chennai, Bengaluru', 'Kolkata, Mumbai, New Delhi, Hyderabad, Pune, Chennai, Bengaluru', 'Kolkata, Mumbai, New Delhi, Hyderabad, Pune, Chennai, Bengaluru', 'Kolkata, Mumbai, New Delhi, Hyderabad, Pune, Chennai, Bengaluru', 'Bengaluru', 'Mumbai, Hyderabad, Bengaluru', 'Remote', 'Kolkata, Mumbai, New Delhi, Hyderabad/Secunderabad, Pune, Chennai, Bangalore/Bengaluru', 'Kolkata, Mumbai, New Delhi, Hyderabad/Secunderabad, Pune, Chennai, Bangalore/Bengaluru', 'Hybrid - Pune, Maharashtra, Bangalore Rural, Karnataka', 'Hybrid - Bangalore Rural, Karnataka, Mumbai (All Areas)', 'Hyderabad, Telangana, Gurugram, Haryana, Bangalore/ Bengaluru, Karnataka', 'Hyderabad, Gurugram, Bengaluru', 'Temp. WFH - Hyderabad, Bengaluru', 'Hyderabad, Chennai, Bengaluru', 'Hybrid - Bengaluru, Karnataka', 'Remote', 'Bengaluru']\n"
     ]
    }
   ],
   "source": [
    "print(job_location)"
   ]
  },
  {
   "cell_type": "code",
   "execution_count": 21,
   "id": "37ad576e",
   "metadata": {},
   "outputs": [],
   "source": [
    "Company_Name = driver.find_elements(By.XPATH,'//span[@class=\" comp-dtls-wrap\"]/a[1]')\n",
    "for i in Company_Name:\n",
    "    camp = i.text\n",
    "    company_name.append(camp)\n",
    "    "
   ]
  },
  {
   "cell_type": "code",
   "execution_count": 22,
   "id": "4b0e1ec9",
   "metadata": {},
   "outputs": [
    {
     "name": "stdout",
     "output_type": "stream",
     "text": [
      "['Coursera', 'Coursera', 'Ford', 'Ford', 'Ford', 'Ford', 'Philips', 'PwC Service Delivery Center', 'Agilite Global Solutions', 'Tata Communications', 'HCLTech', 'Birlasoft', 'Genpact', 'Genpact', 'Brace Infotech Private Limited', 'Wipro', 'Oracle', 'Accenture']\n"
     ]
    }
   ],
   "source": [
    "print(company_name)"
   ]
  },
  {
   "cell_type": "code",
   "execution_count": 17,
   "id": "81552d48",
   "metadata": {},
   "outputs": [],
   "source": [
    " Exp = driver.find_elements(By.XPATH,'//span[@class=\"ni-job-tuple-icon ni-job-tuple-icon-srp-experience exp\"]/span')\n",
    " for i in Exp:\n",
    "    exp =  i.text\n",
    "    experince_required.append(exp)"
   ]
  },
  {
   "cell_type": "code",
   "execution_count": 51,
   "id": "2630aeec",
   "metadata": {},
   "outputs": [
    {
     "name": "stdout",
     "output_type": "stream",
     "text": [
      "['6-7 Yrs', '4-6 Yrs', '3-6 Yrs', '2-6 Yrs', '5-6 Yrs', '2-7 Yrs', '10-20 Yrs', '4-6 Yrs', '2-7 Yrs', '7-8 Yrs', '3-6 Yrs', '10-20 Yrs', '8-12 Yrs', '6-11 Yrs', '8-13 Yrs', '11-20 Yrs', '5-10 Yrs', '5-10 Yrs', '2-7 Yrs', '5-8 Yrs']\n"
     ]
    }
   ],
   "source": [
    "print(experince_required)"
   ]
  },
  {
   "cell_type": "code",
   "execution_count": 25,
   "id": "4557dc4a",
   "metadata": {},
   "outputs": [
    {
     "name": "stdout",
     "output_type": "stream",
     "text": [
      "20 40 18 20\n"
     ]
    }
   ],
   "source": [
    "print(len(job_title), len(job_location), len(company_name),len(experince_required))"
   ]
  },
  {
   "cell_type": "code",
   "execution_count": 28,
   "id": "ba844574",
   "metadata": {},
   "outputs": [
    {
     "data": {
      "text/html": [
       "<div>\n",
       "<style scoped>\n",
       "    .dataframe tbody tr th:only-of-type {\n",
       "        vertical-align: middle;\n",
       "    }\n",
       "\n",
       "    .dataframe tbody tr th {\n",
       "        vertical-align: top;\n",
       "    }\n",
       "\n",
       "    .dataframe thead th {\n",
       "        text-align: right;\n",
       "    }\n",
       "</style>\n",
       "<table border=\"1\" class=\"dataframe\">\n",
       "  <thead>\n",
       "    <tr style=\"text-align: right;\">\n",
       "      <th></th>\n",
       "      <th>Title</th>\n",
       "      <th>Experince</th>\n",
       "    </tr>\n",
       "  </thead>\n",
       "  <tbody>\n",
       "    <tr>\n",
       "      <th>0</th>\n",
       "      <td>Senior Data Scientist, Reporting</td>\n",
       "      <td>6-7 Yrs</td>\n",
       "    </tr>\n",
       "    <tr>\n",
       "      <th>1</th>\n",
       "      <td>Data Scientist, Marketing</td>\n",
       "      <td>4-6 Yrs</td>\n",
       "    </tr>\n",
       "    <tr>\n",
       "      <th>2</th>\n",
       "      <td>Data Scientist</td>\n",
       "      <td>3-6 Yrs</td>\n",
       "    </tr>\n",
       "    <tr>\n",
       "      <th>3</th>\n",
       "      <td>AI Data Scientist</td>\n",
       "      <td>2-6 Yrs</td>\n",
       "    </tr>\n",
       "    <tr>\n",
       "      <th>4</th>\n",
       "      <td>GenAI Data Scientist</td>\n",
       "      <td>5-6 Yrs</td>\n",
       "    </tr>\n",
       "    <tr>\n",
       "      <th>5</th>\n",
       "      <td>Reliability Data Scientist</td>\n",
       "      <td>2-7 Yrs</td>\n",
       "    </tr>\n",
       "    <tr>\n",
       "      <th>6</th>\n",
       "      <td>Data Scientist I</td>\n",
       "      <td>10-20 Yrs</td>\n",
       "    </tr>\n",
       "    <tr>\n",
       "      <th>7</th>\n",
       "      <td>Data Scientist-Senior Associate - P&amp;T Labs</td>\n",
       "      <td>4-6 Yrs</td>\n",
       "    </tr>\n",
       "    <tr>\n",
       "      <th>8</th>\n",
       "      <td>Data Scientist(python) Immediate joiner - Remote</td>\n",
       "      <td>2-7 Yrs</td>\n",
       "    </tr>\n",
       "    <tr>\n",
       "      <th>9</th>\n",
       "      <td>NLP Data Scientist - Real World Data (RWD)</td>\n",
       "      <td>7-8 Yrs</td>\n",
       "    </tr>\n",
       "    <tr>\n",
       "      <th>10</th>\n",
       "      <td>Data Analytics-Corporate HR</td>\n",
       "      <td>3-6 Yrs</td>\n",
       "    </tr>\n",
       "    <tr>\n",
       "      <th>11</th>\n",
       "      <td>HCL Hiring||Senior Data Scientist Role||Locati...</td>\n",
       "      <td>10-20 Yrs</td>\n",
       "    </tr>\n",
       "    <tr>\n",
       "      <th>12</th>\n",
       "      <td>Data Scientist</td>\n",
       "      <td>8-12 Yrs</td>\n",
       "    </tr>\n",
       "    <tr>\n",
       "      <th>13</th>\n",
       "      <td>DS - NLP Expert</td>\n",
       "      <td>6-11 Yrs</td>\n",
       "    </tr>\n",
       "    <tr>\n",
       "      <th>14</th>\n",
       "      <td>Generative AI Data Scientist</td>\n",
       "      <td>8-13 Yrs</td>\n",
       "    </tr>\n",
       "    <tr>\n",
       "      <th>15</th>\n",
       "      <td>Data Scientist Architect</td>\n",
       "      <td>11-20 Yrs</td>\n",
       "    </tr>\n",
       "    <tr>\n",
       "      <th>16</th>\n",
       "      <td>Data Scientist</td>\n",
       "      <td>5-10 Yrs</td>\n",
       "    </tr>\n",
       "    <tr>\n",
       "      <th>17</th>\n",
       "      <td>Data Scientist</td>\n",
       "      <td>5-10 Yrs</td>\n",
       "    </tr>\n",
       "    <tr>\n",
       "      <th>18</th>\n",
       "      <td>Python Data Scientist/Analyst-Remote working-C...</td>\n",
       "      <td>2-7 Yrs</td>\n",
       "    </tr>\n",
       "    <tr>\n",
       "      <th>19</th>\n",
       "      <td>Senior Analyst- Clinical Data Management Scien...</td>\n",
       "      <td>5-8 Yrs</td>\n",
       "    </tr>\n",
       "  </tbody>\n",
       "</table>\n",
       "</div>"
      ],
      "text/plain": [
       "                                                Title  Experince\n",
       "0                    Senior Data Scientist, Reporting    6-7 Yrs\n",
       "1                           Data Scientist, Marketing    4-6 Yrs\n",
       "2                                      Data Scientist    3-6 Yrs\n",
       "3                                   AI Data Scientist    2-6 Yrs\n",
       "4                                GenAI Data Scientist    5-6 Yrs\n",
       "5                          Reliability Data Scientist    2-7 Yrs\n",
       "6                                    Data Scientist I  10-20 Yrs\n",
       "7          Data Scientist-Senior Associate - P&T Labs    4-6 Yrs\n",
       "8    Data Scientist(python) Immediate joiner - Remote    2-7 Yrs\n",
       "9          NLP Data Scientist - Real World Data (RWD)    7-8 Yrs\n",
       "10                        Data Analytics-Corporate HR    3-6 Yrs\n",
       "11  HCL Hiring||Senior Data Scientist Role||Locati...  10-20 Yrs\n",
       "12                                     Data Scientist   8-12 Yrs\n",
       "13                                    DS - NLP Expert   6-11 Yrs\n",
       "14                       Generative AI Data Scientist   8-13 Yrs\n",
       "15                           Data Scientist Architect  11-20 Yrs\n",
       "16                                     Data Scientist   5-10 Yrs\n",
       "17                                     Data Scientist   5-10 Yrs\n",
       "18  Python Data Scientist/Analyst-Remote working-C...    2-7 Yrs\n",
       "19  Senior Analyst- Clinical Data Management Scien...    5-8 Yrs"
      ]
     },
     "execution_count": 28,
     "metadata": {},
     "output_type": "execute_result"
    }
   ],
   "source": [
    "import pandas as pd\n",
    "df = pd.DataFrame({'Title':job_title,'Experince':experince_required})\n",
    "df"
   ]
  },
  {
   "cell_type": "markdown",
   "id": "5aae806b",
   "metadata": {},
   "source": [
    "#### Q2: Write a python program to scrape data for “Data Scientist” Job position in “Bangalore”"
   ]
  },
  {
   "cell_type": "code",
   "execution_count": 18,
   "id": "ee2ff8ec",
   "metadata": {},
   "outputs": [],
   "source": [
    "driver = webdriver.Chrome()"
   ]
  },
  {
   "cell_type": "code",
   "execution_count": 19,
   "id": "c3f7a818",
   "metadata": {},
   "outputs": [],
   "source": [
    "driver.get(\"https://www.shine.com/\")"
   ]
  },
  {
   "cell_type": "code",
   "execution_count": 21,
   "id": "aca3c665",
   "metadata": {},
   "outputs": [],
   "source": [
    "designation = driver.find_element(By.CLASS_NAME, 'form-control')\n",
    "designation.send_keys('Data Scientist')"
   ]
  },
  {
   "cell_type": "code",
   "execution_count": 22,
   "id": "ba12fcf6",
   "metadata": {},
   "outputs": [],
   "source": [
    "location = driver.find_element(By.ID, 'id_loc')\n",
    "location.send_keys('Banglore')"
   ]
  },
  {
   "cell_type": "code",
   "execution_count": 24,
   "id": "fbb3da4a",
   "metadata": {},
   "outputs": [],
   "source": [
    "search_button = driver.find_element(By.XPATH, '//div[@class=\"searchForm_btnWrap_advance__VYBHN\"]/button')\n",
    "search_button.click()"
   ]
  },
  {
   "cell_type": "code",
   "execution_count": 25,
   "id": "c806ca99",
   "metadata": {},
   "outputs": [],
   "source": [
    "job_title = []"
   ]
  },
  {
   "cell_type": "code",
   "execution_count": 36,
   "id": "3075e9ad",
   "metadata": {},
   "outputs": [],
   "source": [
    "job_titles1 = driver.find_elements(By.XPATH, '//strong[@class=\"jobCard_pReplaceH2__xWmHg\"]/a')\n"
   ]
  },
  {
   "cell_type": "code",
   "execution_count": 37,
   "id": "379750d2",
   "metadata": {},
   "outputs": [
    {
     "name": "stdout",
     "output_type": "stream",
     "text": [
      "[<selenium.webdriver.remote.webelement.WebElement (session=\"c4dc79ac2b1eddf1d33967e6702427f5\", element=\"f.CCC4FFFCB8CFDC0280B2C05C324DDDB8.d.754FE9B8CAAB83F0FD57941554604F27.e.139\")>, <selenium.webdriver.remote.webelement.WebElement (session=\"c4dc79ac2b1eddf1d33967e6702427f5\", element=\"f.CCC4FFFCB8CFDC0280B2C05C324DDDB8.d.754FE9B8CAAB83F0FD57941554604F27.e.140\")>, <selenium.webdriver.remote.webelement.WebElement (session=\"c4dc79ac2b1eddf1d33967e6702427f5\", element=\"f.CCC4FFFCB8CFDC0280B2C05C324DDDB8.d.754FE9B8CAAB83F0FD57941554604F27.e.141\")>, <selenium.webdriver.remote.webelement.WebElement (session=\"c4dc79ac2b1eddf1d33967e6702427f5\", element=\"f.CCC4FFFCB8CFDC0280B2C05C324DDDB8.d.754FE9B8CAAB83F0FD57941554604F27.e.142\")>, <selenium.webdriver.remote.webelement.WebElement (session=\"c4dc79ac2b1eddf1d33967e6702427f5\", element=\"f.CCC4FFFCB8CFDC0280B2C05C324DDDB8.d.754FE9B8CAAB83F0FD57941554604F27.e.143\")>, <selenium.webdriver.remote.webelement.WebElement (session=\"c4dc79ac2b1eddf1d33967e6702427f5\", element=\"f.CCC4FFFCB8CFDC0280B2C05C324DDDB8.d.754FE9B8CAAB83F0FD57941554604F27.e.144\")>, <selenium.webdriver.remote.webelement.WebElement (session=\"c4dc79ac2b1eddf1d33967e6702427f5\", element=\"f.CCC4FFFCB8CFDC0280B2C05C324DDDB8.d.754FE9B8CAAB83F0FD57941554604F27.e.145\")>, <selenium.webdriver.remote.webelement.WebElement (session=\"c4dc79ac2b1eddf1d33967e6702427f5\", element=\"f.CCC4FFFCB8CFDC0280B2C05C324DDDB8.d.754FE9B8CAAB83F0FD57941554604F27.e.146\")>, <selenium.webdriver.remote.webelement.WebElement (session=\"c4dc79ac2b1eddf1d33967e6702427f5\", element=\"f.CCC4FFFCB8CFDC0280B2C05C324DDDB8.d.754FE9B8CAAB83F0FD57941554604F27.e.147\")>, <selenium.webdriver.remote.webelement.WebElement (session=\"c4dc79ac2b1eddf1d33967e6702427f5\", element=\"f.CCC4FFFCB8CFDC0280B2C05C324DDDB8.d.754FE9B8CAAB83F0FD57941554604F27.e.148\")>, <selenium.webdriver.remote.webelement.WebElement (session=\"c4dc79ac2b1eddf1d33967e6702427f5\", element=\"f.CCC4FFFCB8CFDC0280B2C05C324DDDB8.d.754FE9B8CAAB83F0FD57941554604F27.e.149\")>, <selenium.webdriver.remote.webelement.WebElement (session=\"c4dc79ac2b1eddf1d33967e6702427f5\", element=\"f.CCC4FFFCB8CFDC0280B2C05C324DDDB8.d.754FE9B8CAAB83F0FD57941554604F27.e.150\")>, <selenium.webdriver.remote.webelement.WebElement (session=\"c4dc79ac2b1eddf1d33967e6702427f5\", element=\"f.CCC4FFFCB8CFDC0280B2C05C324DDDB8.d.754FE9B8CAAB83F0FD57941554604F27.e.151\")>, <selenium.webdriver.remote.webelement.WebElement (session=\"c4dc79ac2b1eddf1d33967e6702427f5\", element=\"f.CCC4FFFCB8CFDC0280B2C05C324DDDB8.d.754FE9B8CAAB83F0FD57941554604F27.e.152\")>, <selenium.webdriver.remote.webelement.WebElement (session=\"c4dc79ac2b1eddf1d33967e6702427f5\", element=\"f.CCC4FFFCB8CFDC0280B2C05C324DDDB8.d.754FE9B8CAAB83F0FD57941554604F27.e.153\")>, <selenium.webdriver.remote.webelement.WebElement (session=\"c4dc79ac2b1eddf1d33967e6702427f5\", element=\"f.CCC4FFFCB8CFDC0280B2C05C324DDDB8.d.754FE9B8CAAB83F0FD57941554604F27.e.154\")>, <selenium.webdriver.remote.webelement.WebElement (session=\"c4dc79ac2b1eddf1d33967e6702427f5\", element=\"f.CCC4FFFCB8CFDC0280B2C05C324DDDB8.d.754FE9B8CAAB83F0FD57941554604F27.e.155\")>, <selenium.webdriver.remote.webelement.WebElement (session=\"c4dc79ac2b1eddf1d33967e6702427f5\", element=\"f.CCC4FFFCB8CFDC0280B2C05C324DDDB8.d.754FE9B8CAAB83F0FD57941554604F27.e.156\")>, <selenium.webdriver.remote.webelement.WebElement (session=\"c4dc79ac2b1eddf1d33967e6702427f5\", element=\"f.CCC4FFFCB8CFDC0280B2C05C324DDDB8.d.754FE9B8CAAB83F0FD57941554604F27.e.157\")>, <selenium.webdriver.remote.webelement.WebElement (session=\"c4dc79ac2b1eddf1d33967e6702427f5\", element=\"f.CCC4FFFCB8CFDC0280B2C05C324DDDB8.d.754FE9B8CAAB83F0FD57941554604F27.e.158\")>]\n"
     ]
    }
   ],
   "source": [
    "print(job_titles1)"
   ]
  },
  {
   "cell_type": "code",
   "execution_count": 40,
   "id": "88f44538",
   "metadata": {},
   "outputs": [],
   "source": [
    "job_titles = driver.find_elements(By.XPATH, '//strong[@class=\"jobCard_pReplaceH2__xWmHg\"]/a')\n",
    "job_locations = driver.find_elements(By.XPATH ,'//div[@class=\" jobCard_jobCard_lists_item__YxRkV jobCard_locationIcon__zrWt2\"]')\n",
    "company_names = driver.find_elements(By.XPATH , '//div[@class=\"jobCard_jobCard_cName__mYnow\"]/span')\n",
    "experience_required = driver.find_elements(By.XPATH ,'//div[@class=\" jobCard_jobCard_lists_item__YxRkV jobCard_jobIcon__3FB1t\"]')\n",
    "\n",
    "data = []\n",
    "for i in range(10):\n",
    "    job = {\n",
    "       'Job Title': job_titles[i].text,\n",
    "       'Job Location': job_locations[i].text,\n",
    "       'Company Name': company_names[i].text,\n",
    "       'Experience Required': experience_required[i].text\n",
    "        }\n",
    "data.append(job)"
   ]
  },
  {
   "cell_type": "code",
   "execution_count": 42,
   "id": "5fe929a1",
   "metadata": {},
   "outputs": [
    {
     "data": {
      "text/html": [
       "<div>\n",
       "<style scoped>\n",
       "    .dataframe tbody tr th:only-of-type {\n",
       "        vertical-align: middle;\n",
       "    }\n",
       "\n",
       "    .dataframe tbody tr th {\n",
       "        vertical-align: top;\n",
       "    }\n",
       "\n",
       "    .dataframe thead th {\n",
       "        text-align: right;\n",
       "    }\n",
       "</style>\n",
       "<table border=\"1\" class=\"dataframe\">\n",
       "  <thead>\n",
       "    <tr style=\"text-align: right;\">\n",
       "      <th></th>\n",
       "      <th>Job Title</th>\n",
       "      <th>Job Location</th>\n",
       "      <th>Company Name</th>\n",
       "      <th>Experience Required</th>\n",
       "    </tr>\n",
       "  </thead>\n",
       "  <tbody>\n",
       "    <tr>\n",
       "      <th>0</th>\n",
       "      <td>Data Scientist Recruitment</td>\n",
       "      <td>Mumbai City\\n+9</td>\n",
       "      <td>radhika enterprises</td>\n",
       "      <td>0 to 4 Yrs</td>\n",
       "    </tr>\n",
       "  </tbody>\n",
       "</table>\n",
       "</div>"
      ],
      "text/plain": [
       "                    Job Title     Job Location         Company Name  \\\n",
       "0  Data Scientist Recruitment  Mumbai City\\n+9  radhika enterprises   \n",
       "\n",
       "  Experience Required  \n",
       "0          0 to 4 Yrs  "
      ]
     },
     "execution_count": 42,
     "metadata": {},
     "output_type": "execute_result"
    }
   ],
   "source": [
    "df = pd.DataFrame(data)\n",
    "df"
   ]
  },
  {
   "cell_type": "code",
   "execution_count": 3,
   "id": "4dd107dd",
   "metadata": {},
   "outputs": [],
   "source": [
    "driver = webdriver.Chrome()"
   ]
  },
  {
   "cell_type": "code",
   "execution_count": 4,
   "id": "0cca0287",
   "metadata": {},
   "outputs": [],
   "source": [
    "driver.get(\"https://www.flipkart.com/apple-iphone-11-black-64-gb/product-reviews/itm4e5041ba101fd?pid=MOBFWQ6BXGJCEYNY&lid=LSTMOBFWQ6BXGJCEYNYZXSHRJ&marketplace=FLIPKART\")\n"
   ]
  },
  {
   "cell_type": "code",
   "execution_count": 19,
   "id": "a22bb4b8",
   "metadata": {},
   "outputs": [
    {
     "ename": "WebDriverException",
     "evalue": "Message: disconnected: not connected to DevTools\n  (failed to check if window was closed: disconnected: not connected to DevTools)\n  (Session info: chrome=123.0.6312.123)\nStacktrace:\n\tGetHandleVerifier [0x00007FF7F1E47032+63090]\n\t(No symbol) [0x00007FF7F1DB2C82]\n\t(No symbol) [0x00007FF7F1C4EC65]\n\t(No symbol) [0x00007FF7F1C3C31B]\n\t(No symbol) [0x00007FF7F1C3BEC0]\n\t(No symbol) [0x00007FF7F1C50EC1]\n\t(No symbol) [0x00007FF7F1CD2AE9]\n\t(No symbol) [0x00007FF7F1CB6D83]\n\t(No symbol) [0x00007FF7F1C883A8]\n\t(No symbol) [0x00007FF7F1C89441]\n\tGetHandleVerifier [0x00007FF7F22425AD+4238317]\n\tGetHandleVerifier [0x00007FF7F227F70D+4488525]\n\tGetHandleVerifier [0x00007FF7F22779EF+4456495]\n\tGetHandleVerifier [0x00007FF7F1F20576+953270]\n\t(No symbol) [0x00007FF7F1DBE54F]\n\t(No symbol) [0x00007FF7F1DB9224]\n\t(No symbol) [0x00007FF7F1DB935B]\n\t(No symbol) [0x00007FF7F1DA9B94]\n\tBaseThreadInitThunk [0x00007FF9BE5E257D+29]\n\tRtlUserThreadStart [0x00007FF9BFC2AA58+40]\n",
     "output_type": "error",
     "traceback": [
      "\u001b[1;31m---------------------------------------------------------------------------\u001b[0m",
      "\u001b[1;31mWebDriverException\u001b[0m                        Traceback (most recent call last)",
      "Cell \u001b[1;32mIn[19], line 1\u001b[0m\n\u001b[1;32m----> 1\u001b[0m Rating \u001b[38;5;241m=\u001b[39m driver\u001b[38;5;241m.\u001b[39mfind_elements(By\u001b[38;5;241m.\u001b[39mXPATH, \u001b[38;5;124m'\u001b[39m\u001b[38;5;124m//div[@class=\u001b[39m\u001b[38;5;124m\"\u001b[39m\u001b[38;5;124m_3LWZlK _1BLPMq\u001b[39m\u001b[38;5;124m\"\u001b[39m\u001b[38;5;124m]\u001b[39m\u001b[38;5;124m'\u001b[39m)\n\u001b[0;32m      2\u001b[0m \u001b[38;5;28;01mfor\u001b[39;00m i \u001b[38;5;129;01min\u001b[39;00m Rating :\n\u001b[0;32m      3\u001b[0m     rat \u001b[38;5;241m=\u001b[39m i\u001b[38;5;241m.\u001b[39mtext \n",
      "File \u001b[1;32m~\\anaconda3\\Lib\\site-packages\\selenium\\webdriver\\remote\\webdriver.py:771\u001b[0m, in \u001b[0;36mWebDriver.find_elements\u001b[1;34m(self, by, value)\u001b[0m\n\u001b[0;32m    767\u001b[0m     value \u001b[38;5;241m=\u001b[39m \u001b[38;5;124mf\u001b[39m\u001b[38;5;124m'\u001b[39m\u001b[38;5;124m[name=\u001b[39m\u001b[38;5;124m\"\u001b[39m\u001b[38;5;132;01m{\u001b[39;00mvalue\u001b[38;5;132;01m}\u001b[39;00m\u001b[38;5;124m\"\u001b[39m\u001b[38;5;124m]\u001b[39m\u001b[38;5;124m'\u001b[39m\n\u001b[0;32m    769\u001b[0m \u001b[38;5;66;03m# Return empty list if driver returns null\u001b[39;00m\n\u001b[0;32m    770\u001b[0m \u001b[38;5;66;03m# See https://github.com/SeleniumHQ/selenium/issues/4555\u001b[39;00m\n\u001b[1;32m--> 771\u001b[0m \u001b[38;5;28;01mreturn\u001b[39;00m \u001b[38;5;28mself\u001b[39m\u001b[38;5;241m.\u001b[39mexecute(Command\u001b[38;5;241m.\u001b[39mFIND_ELEMENTS, {\u001b[38;5;124m\"\u001b[39m\u001b[38;5;124musing\u001b[39m\u001b[38;5;124m\"\u001b[39m: by, \u001b[38;5;124m\"\u001b[39m\u001b[38;5;124mvalue\u001b[39m\u001b[38;5;124m\"\u001b[39m: value})[\u001b[38;5;124m\"\u001b[39m\u001b[38;5;124mvalue\u001b[39m\u001b[38;5;124m\"\u001b[39m] \u001b[38;5;129;01mor\u001b[39;00m []\n",
      "File \u001b[1;32m~\\anaconda3\\Lib\\site-packages\\selenium\\webdriver\\remote\\webdriver.py:347\u001b[0m, in \u001b[0;36mWebDriver.execute\u001b[1;34m(self, driver_command, params)\u001b[0m\n\u001b[0;32m    345\u001b[0m response \u001b[38;5;241m=\u001b[39m \u001b[38;5;28mself\u001b[39m\u001b[38;5;241m.\u001b[39mcommand_executor\u001b[38;5;241m.\u001b[39mexecute(driver_command, params)\n\u001b[0;32m    346\u001b[0m \u001b[38;5;28;01mif\u001b[39;00m response:\n\u001b[1;32m--> 347\u001b[0m     \u001b[38;5;28mself\u001b[39m\u001b[38;5;241m.\u001b[39merror_handler\u001b[38;5;241m.\u001b[39mcheck_response(response)\n\u001b[0;32m    348\u001b[0m     response[\u001b[38;5;124m\"\u001b[39m\u001b[38;5;124mvalue\u001b[39m\u001b[38;5;124m\"\u001b[39m] \u001b[38;5;241m=\u001b[39m \u001b[38;5;28mself\u001b[39m\u001b[38;5;241m.\u001b[39m_unwrap_value(response\u001b[38;5;241m.\u001b[39mget(\u001b[38;5;124m\"\u001b[39m\u001b[38;5;124mvalue\u001b[39m\u001b[38;5;124m\"\u001b[39m, \u001b[38;5;28;01mNone\u001b[39;00m))\n\u001b[0;32m    349\u001b[0m     \u001b[38;5;28;01mreturn\u001b[39;00m response\n",
      "File \u001b[1;32m~\\anaconda3\\Lib\\site-packages\\selenium\\webdriver\\remote\\errorhandler.py:229\u001b[0m, in \u001b[0;36mErrorHandler.check_response\u001b[1;34m(self, response)\u001b[0m\n\u001b[0;32m    227\u001b[0m         alert_text \u001b[38;5;241m=\u001b[39m value[\u001b[38;5;124m\"\u001b[39m\u001b[38;5;124malert\u001b[39m\u001b[38;5;124m\"\u001b[39m]\u001b[38;5;241m.\u001b[39mget(\u001b[38;5;124m\"\u001b[39m\u001b[38;5;124mtext\u001b[39m\u001b[38;5;124m\"\u001b[39m)\n\u001b[0;32m    228\u001b[0m     \u001b[38;5;28;01mraise\u001b[39;00m exception_class(message, screen, stacktrace, alert_text)  \u001b[38;5;66;03m# type: ignore[call-arg]  # mypy is not smart enough here\u001b[39;00m\n\u001b[1;32m--> 229\u001b[0m \u001b[38;5;28;01mraise\u001b[39;00m exception_class(message, screen, stacktrace)\n",
      "\u001b[1;31mWebDriverException\u001b[0m: Message: disconnected: not connected to DevTools\n  (failed to check if window was closed: disconnected: not connected to DevTools)\n  (Session info: chrome=123.0.6312.123)\nStacktrace:\n\tGetHandleVerifier [0x00007FF7F1E47032+63090]\n\t(No symbol) [0x00007FF7F1DB2C82]\n\t(No symbol) [0x00007FF7F1C4EC65]\n\t(No symbol) [0x00007FF7F1C3C31B]\n\t(No symbol) [0x00007FF7F1C3BEC0]\n\t(No symbol) [0x00007FF7F1C50EC1]\n\t(No symbol) [0x00007FF7F1CD2AE9]\n\t(No symbol) [0x00007FF7F1CB6D83]\n\t(No symbol) [0x00007FF7F1C883A8]\n\t(No symbol) [0x00007FF7F1C89441]\n\tGetHandleVerifier [0x00007FF7F22425AD+4238317]\n\tGetHandleVerifier [0x00007FF7F227F70D+4488525]\n\tGetHandleVerifier [0x00007FF7F22779EF+4456495]\n\tGetHandleVerifier [0x00007FF7F1F20576+953270]\n\t(No symbol) [0x00007FF7F1DBE54F]\n\t(No symbol) [0x00007FF7F1DB9224]\n\t(No symbol) [0x00007FF7F1DB935B]\n\t(No symbol) [0x00007FF7F1DA9B94]\n\tBaseThreadInitThunk [0x00007FF9BE5E257D+29]\n\tRtlUserThreadStart [0x00007FF9BFC2AA58+40]\n"
     ]
    }
   ],
   "source": [
    "Rating = driver.find_elements(By.XPATH, '//div[@class=\"_3LWZlK _1BLPMq\"]')\n",
    "for i in Rating :\n",
    "    rat = i.text \n",
    "    Rating.append(rat)"
   ]
  },
  {
   "cell_type": "code",
   "execution_count": 11,
   "id": "408a23a2",
   "metadata": {},
   "outputs": [
    {
     "ename": "AttributeError",
     "evalue": "'str' object has no attribute 'text'",
     "output_type": "error",
     "traceback": [
      "\u001b[1;31m---------------------------------------------------------------------------\u001b[0m",
      "\u001b[1;31mAttributeError\u001b[0m                            Traceback (most recent call last)",
      "Cell \u001b[1;32mIn[11], line 1\u001b[0m\n\u001b[1;32m----> 1\u001b[0m \u001b[38;5;28mprint\u001b[39m(rat\u001b[38;5;241m.\u001b[39mtext)\n",
      "\u001b[1;31mAttributeError\u001b[0m: 'str' object has no attribute 'text'"
     ]
    }
   ],
   "source": [
    "print(rat.text)"
   ]
  },
  {
   "cell_type": "code",
   "execution_count": 70,
   "id": "09edc7bb",
   "metadata": {},
   "outputs": [
    {
     "ename": "MemoryError",
     "evalue": "",
     "output_type": "error",
     "traceback": [
      "\u001b[1;31m---------------------------------------------------------------------------\u001b[0m",
      "\u001b[1;31mMemoryError\u001b[0m                               Traceback (most recent call last)",
      "Cell \u001b[1;32mIn[70], line 4\u001b[0m\n\u001b[0;32m      2\u001b[0m \u001b[38;5;28;01mfor\u001b[39;00m i \u001b[38;5;129;01min\u001b[39;00m Review :\n\u001b[0;32m      3\u001b[0m     rev \u001b[38;5;241m=\u001b[39m i\u001b[38;5;241m.\u001b[39mtext \n\u001b[1;32m----> 4\u001b[0m     Rating\u001b[38;5;241m.\u001b[39mappend(rev)\n",
      "\u001b[1;31mMemoryError\u001b[0m: "
     ]
    }
   ],
   "source": [
    "Review = driver.find_elements(By.XPATH, '//p[@class=\"_2-N8zT\"]')\n",
    "for i in Review :\n",
    "    rev = i.text \n",
    "    Rating.append(Review)"
   ]
  },
  {
   "cell_type": "code",
   "execution_count": null,
   "id": "9a31b40c",
   "metadata": {},
   "outputs": [],
   "source": []
  }
 ],
 "metadata": {
  "kernelspec": {
   "display_name": "Python 3 (ipykernel)",
   "language": "python",
   "name": "python3"
  },
  "language_info": {
   "codemirror_mode": {
    "name": "ipython",
    "version": 3
   },
   "file_extension": ".py",
   "mimetype": "text/x-python",
   "name": "python",
   "nbconvert_exporter": "python",
   "pygments_lexer": "ipython3",
   "version": "3.11.4"
  }
 },
 "nbformat": 4,
 "nbformat_minor": 5
}
